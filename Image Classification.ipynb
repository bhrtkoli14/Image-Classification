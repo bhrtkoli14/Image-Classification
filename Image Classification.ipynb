{
  "nbformat": 4,
  "nbformat_minor": 0,
  "metadata": {
    "colab": {
      "name": "Overview of Colaboratory Features",
      "provenance": [],
      "collapsed_sections": []
    },
    "kernelspec": {
      "display_name": "Python 3",
      "name": "python3"
    }
  },
  "cells": [
    {
      "cell_type": "code",
      "metadata": {
        "id": "9bFb--KRffNF",
        "colab_type": "code",
        "colab": {
          "base_uri": "https://localhost:8080/",
          "height": 35
        },
        "outputId": "3f9b356d-9d21-4ceb-e696-83ff612abe07"
      },
      "source": [
        "# Import the libraries\n",
        "\n",
        "import tensorflow\n",
        "import keras\n",
        "from keras.models import Sequential\n",
        "from keras.layers import Convolution2D\n",
        "from keras.layers import MaxPooling2D\n",
        "from keras.layers import Flatten\n",
        "from keras.layers import Dense\n",
        "import os\n",
        "import cv2\n",
        "import numpy as np\n",
        "from sklearn.utils import shuffle\n",
        "from random import randint\n",
        "from IPython.display import SVG\n",
        "import matplotlib.pyplot as plot\n",
        "import matplotlib.gridspec as gridspec"
      ],
      "execution_count": 1,
      "outputs": [
        {
          "output_type": "stream",
          "text": [
            "Using TensorFlow backend.\n"
          ],
          "name": "stderr"
        }
      ]
    },
    {
      "cell_type": "code",
      "metadata": {
        "id": "I9VbIHgJfmxg",
        "colab_type": "code",
        "colab": {}
      },
      "source": [
        "# Creating function for importing the data. We can also do using keras no need to write function\n",
        "\n",
        "\n",
        "def get_images(directory):\n",
        "    Images = []\n",
        "    Labels = []  # 0 for categori_1 , 1 for categori_2, 2 for categori_3, 3 for categori_4\n",
        "    label = 0\n",
        "    \n",
        "    for labels in os.listdir(directory): # Main Directory where each class label is present as folder name.\n",
        "        if labels == 'category 1': \n",
        "            label = 0\n",
        "        elif labels == 'category 2':\n",
        "            label = 1\n",
        "        elif labels == 'category 3':\n",
        "            label = 2\n",
        "        elif labels == 'category 4':\n",
        "            label = 3\n",
        "        \n",
        "        for image_file in os.listdir(directory+labels): # Extracting the file name of the image from Class Label folder\n",
        "            image = cv2.imread(directory+labels+r'/'+image_file) # Reading the image (OpenCV)\n",
        "            image = cv2.resize(image,(64,64)) # Resize the image, Some images are different sizes. (Resizing is very Important)\n",
        "            Images.append(image)\n",
        "            Labels.append(label)\n",
        "    \n",
        "    return shuffle(Images,Labels,random_state=817328462) # Shuffle the dataset you just prepared.\n",
        "\n",
        "def get_classlabel(class_code):\n",
        "    labels = {0:'category 1', 1:'category 2', 2:'category 3', 3:'category 4'}\n",
        "    \n",
        "    return labels[class_code]"
      ],
      "execution_count": 0,
      "outputs": []
    },
    {
      "cell_type": "code",
      "metadata": {
        "id": "mXxT-n8hhbdM",
        "colab_type": "code",
        "colab": {
          "base_uri": "https://localhost:8080/",
          "height": 128
        },
        "outputId": "a31e53ad-7923-4baf-c991-0e80757d7e59"
      },
      "source": [
        "from google.colab import drive\n",
        "drive.mount('/content/gdrive')"
      ],
      "execution_count": 3,
      "outputs": [
        {
          "output_type": "stream",
          "text": [
            "Go to this URL in a browser: https://accounts.google.com/o/oauth2/auth?client_id=947318989803-6bn6qk8qdgf4n4g3pfee6491hc0brc4i.apps.googleusercontent.com&redirect_uri=urn%3Aietf%3Awg%3Aoauth%3A2.0%3Aoob&scope=email%20https%3A%2F%2Fwww.googleapis.com%2Fauth%2Fdocs.test%20https%3A%2F%2Fwww.googleapis.com%2Fauth%2Fdrive%20https%3A%2F%2Fwww.googleapis.com%2Fauth%2Fdrive.photos.readonly%20https%3A%2F%2Fwww.googleapis.com%2Fauth%2Fpeopleapi.readonly&response_type=code\n",
            "\n",
            "Enter your authorization code:\n",
            "··········\n",
            "Mounted at /content/gdrive\n"
          ],
          "name": "stdout"
        }
      ]
    },
    {
      "cell_type": "code",
      "metadata": {
        "id": "zSFnj3Cchb4J",
        "colab_type": "code",
        "colab": {}
      },
      "source": [
        "Images, Labels = get_images('/content/gdrive/My Drive/Dataset/Split/Training/') #Extract the training images from the folders.\n",
        "\n",
        "Images = np.array(Images) #converting the list of images to numpy array.\n",
        "Labels = np.array(Labels)"
      ],
      "execution_count": 0,
      "outputs": []
    },
    {
      "cell_type": "code",
      "metadata": {
        "id": "Lh2dUAE8inxI",
        "colab_type": "code",
        "colab": {
          "base_uri": "https://localhost:8080/",
          "height": 54
        },
        "outputId": "aec48c4b-b51b-4baa-b568-3baedaa72f87"
      },
      "source": [
        "print(\"Shape of Images:\",Images.shape)\n",
        "print(\"Shape of Labels:\",Labels.shape) \n",
        "# (Number of Training Images, Width of image, Height of image, Channel of image)"
      ],
      "execution_count": 5,
      "outputs": [
        {
          "output_type": "stream",
          "text": [
            "Shape of Images: (353, 64, 64, 3)\n",
            "Shape of Labels: (353,)\n"
          ],
          "name": "stdout"
        }
      ]
    },
    {
      "cell_type": "code",
      "metadata": {
        "id": "2Wrx_v0FjCtk",
        "colab_type": "code",
        "colab": {
          "base_uri": "https://localhost:8080/",
          "height": 640
        },
        "outputId": "fca77c3d-14f0-48d9-f3a9-612f40e9382f"
      },
      "source": [
        "f,ax = plot.subplots(4,4) \n",
        "f.subplots_adjust(0,0,2,2)\n",
        "for i in range(0,4,1):\n",
        "    for j in range(0,4,1):\n",
        "        rnd_number = randint(0,len(Images))\n",
        "        ax[i,j].imshow(Images[rnd_number])\n",
        "        ax[i,j].set_title(get_classlabel(Labels[rnd_number]))\n",
        "        ax[i,j].axis('off')"
      ],
      "execution_count": 6,
      "outputs": [
        {
          "output_type": "display_data",
          "data": {
            "image/png": "[encoded data removed]",
            "text/plain": [
              "<Figure size 432x288 with 16 Axes>"
            ]
          },
          "metadata": {
            "tags": []
          }
        }
      ]
    },
    {
      "cell_type": "code",
      "metadata": {
        "id": "u8LsaTFmoVHh",
        "colab_type": "code",
        "colab": {
          "base_uri": "https://localhost:8080/",
          "height": 819
        },
        "outputId": "778281a5-8894-49e6-b82d-c098238cd920"
      },
      "source": [
        "# Initialising the CNN\n",
        "classifier = Sequential()\n",
        "\n",
        "# Step 1 - Convolution\n",
        "classifier.add(Convolution2D(32, 3, 3, input_shape = (64, 64, 3), activation = 'relu'))\n",
        "\n",
        "# Step 2 - Pooling\n",
        "classifier.add(MaxPooling2D(pool_size = (2, 2)))\n",
        "\n",
        "# Adding a second convolutional layer\n",
        "classifier.add(Convolution2D(32, 3, 3, activation = 'relu'))\n",
        "classifier.add(MaxPooling2D(pool_size = (2, 2)))\n",
        "\n",
        "# Step 3 - Flattening\n",
        "classifier.add(Flatten())\n",
        "\n",
        "# Step 4 - Full connection\n",
        "classifier.add(Dense(output_dim = 128, activation = 'relu'))\n",
        "classifier.add(Dense(output_dim = 4, activation = 'sigmoid'))\n",
        "\n",
        "# Compiling the CNN\n",
        "classifier.compile(optimizer = 'adam', loss = 'binary_crossentropy', metrics = ['accuracy'])\n",
        "\n",
        "classifier.summary()"
      ],
      "execution_count": 7,
      "outputs": [
        {
          "output_type": "stream",
          "text": [
            "WARNING:tensorflow:From /usr/local/lib/python3.6/dist-packages/keras/backend/tensorflow_backend.py:66: The name tf.get_default_graph is deprecated. Please use tf.compat.v1.get_default_graph instead.\n",
            "\n",
            "WARNING:tensorflow:From /usr/local/lib/python3.6/dist-packages/keras/backend/tensorflow_backend.py:541: The name tf.placeholder is deprecated. Please use tf.compat.v1.placeholder instead.\n",
            "\n",
            "WARNING:tensorflow:From /usr/local/lib/python3.6/dist-packages/keras/backend/tensorflow_backend.py:4432: The name tf.random_uniform is deprecated. Please use tf.random.uniform instead.\n",
            "\n",
            "WARNING:tensorflow:From /usr/local/lib/python3.6/dist-packages/keras/backend/tensorflow_backend.py:4267: The name tf.nn.max_pool is deprecated. Please use tf.nn.max_pool2d instead.\n",
            "\n",
            "WARNING:tensorflow:From /usr/local/lib/python3.6/dist-packages/keras/optimizers.py:793: The name tf.train.Optimizer is deprecated. Please use tf.compat.v1.train.Optimizer instead.\n",
            "\n",
            "WARNING:tensorflow:From /usr/local/lib/python3.6/dist-packages/keras/backend/tensorflow_backend.py:3657: The name tf.log is deprecated. Please use tf.math.log instead.\n",
            "\n",
            "WARNING:tensorflow:From /usr/local/lib/python3.6/dist-packages/tensorflow_core/python/ops/nn_impl.py:183: where (from tensorflow.python.ops.array_ops) is deprecated and will be removed in a future version.\n",
            "Instructions for updating:\n",
            "Use tf.where in 2.0, which has the same broadcast rule as np.where\n",
            "Model: \"sequential_1\"\n",
            "_________________________________________________________________\n",
            "Layer (type)                 Output Shape              Param #   \n",
            "=================================================================\n",
            "conv2d_1 (Conv2D)            (None, 62, 62, 32)        896       \n",
            "_________________________________________________________________\n",
            "max_pooling2d_1 (MaxPooling2 (None, 31, 31, 32)        0         \n",
            "_________________________________________________________________\n",
            "conv2d_2 (Conv2D)            (None, 29, 29, 32)        9248      \n",
            "_________________________________________________________________\n",
            "max_pooling2d_2 (MaxPooling2 (None, 14, 14, 32)        0         \n",
            "_________________________________________________________________\n",
            "flatten_1 (Flatten)          (None, 6272)              0         \n",
            "_________________________________________________________________\n",
            "dense_1 (Dense)              (None, 128)               802944    \n",
            "_________________________________________________________________\n",
            "dense_2 (Dense)              (None, 4)                 516       \n",
            "=================================================================\n",
            "Total params: 813,604\n",
            "Trainable params: 813,604\n",
            "Non-trainable params: 0\n",
            "_________________________________________________________________\n"
          ],
          "name": "stdout"
        },
        {
          "output_type": "stream",
          "text": [
            "/usr/local/lib/python3.6/dist-packages/ipykernel_launcher.py:4: UserWarning: Update your `Conv2D` call to the Keras 2 API: `Conv2D(32, (3, 3), input_shape=(64, 64, 3..., activation=\"relu\")`\n",
            "  after removing the cwd from sys.path.\n",
            "/usr/local/lib/python3.6/dist-packages/ipykernel_launcher.py:10: UserWarning: Update your `Conv2D` call to the Keras 2 API: `Conv2D(32, (3, 3), activation=\"relu\")`\n",
            "  # Remove the CWD from sys.path while we load stuff.\n",
            "/usr/local/lib/python3.6/dist-packages/ipykernel_launcher.py:17: UserWarning: Update your `Dense` call to the Keras 2 API: `Dense(activation=\"relu\", units=128)`\n",
            "/usr/local/lib/python3.6/dist-packages/ipykernel_launcher.py:18: UserWarning: Update your `Dense` call to the Keras 2 API: `Dense(activation=\"sigmoid\", units=4)`\n"
          ],
          "name": "stderr"
        }
      ]
    },
    {
      "cell_type": "code",
      "metadata": {
        "id": "QCRp3qcDmobt",
        "colab_type": "code",
        "colab": {
          "base_uri": "https://localhost:8080/",
          "height": 54
        },
        "outputId": "19a9a61e-dba8-4f1b-d08b-7cdb063eb377"
      },
      "source": [
        "from keras.preprocessing.image import ImageDataGenerator\n",
        "\n",
        "train_datagen = ImageDataGenerator(rescale = 1./255,\n",
        "                                   shear_range = 0.2,\n",
        "                                   zoom_range = 0.2,\n",
        "                                   horizontal_flip = True)\n",
        "test_datagen = ImageDataGenerator(rescale = 1./255)\n",
        "\n",
        "# Image Data Generator\n",
        "\n",
        "training_set = train_datagen.flow_from_directory('/content/gdrive/My Drive/Dataset/Split/Training',\n",
        "                                                 target_size = (64, 64),\n",
        "                                                 batch_size = 32,\n",
        "                                                 class_mode = 'categorical')\n",
        "test_set = test_datagen.flow_from_directory('/content/gdrive/My Drive/Dataset/Split/Testing',\n",
        "                                            target_size = (64, 64),\n",
        "                                            batch_size = 32,\n",
        "                                            class_mode = 'categorical')"
      ],
      "execution_count": 8,
      "outputs": [
        {
          "output_type": "stream",
          "text": [
            "Found 353 images belonging to 4 classes.\n",
            "Found 88 images belonging to 4 classes.\n"
          ],
          "name": "stdout"
        }
      ]
    },
    {
      "cell_type": "code",
      "metadata": {
        "id": "DRcXvENt-zsp",
        "colab_type": "code",
        "colab": {
          "base_uri": "https://localhost:8080/",
          "height": 965
        },
        "outputId": "2921e85b-0d84-4fa5-d608-fb65137dc263"
      },
      "source": [
        "# Now, lets train the model with validation split equal to 30% from training data. Validation split is used to determine that our model is not geting over-fitted.\n",
        "\n",
        "classifier.fit_generator(training_set,\n",
        "                         samples_per_epoch = 353,\n",
        "                         nb_epoch = 15,\n",
        "                         validation_data = test_set,\n",
        "                         nb_val_samples = 88)"
      ],
      "execution_count": 9,
      "outputs": [
        {
          "output_type": "stream",
          "text": [
            "/usr/local/lib/python3.6/dist-packages/ipykernel_launcher.py:6: UserWarning: The semantics of the Keras 2 argument `steps_per_epoch` is not the same as the Keras 1 argument `samples_per_epoch`. `steps_per_epoch` is the number of batches to draw from the generator at each epoch. Basically steps_per_epoch = samples_per_epoch/batch_size. Similarly `nb_val_samples`->`validation_steps` and `val_samples`->`steps` arguments have changed. Update your method calls accordingly.\n",
            "  \n",
            "/usr/local/lib/python3.6/dist-packages/ipykernel_launcher.py:6: UserWarning: Update your `fit_generator` call to the Keras 2 API: `fit_generator(<keras_pre..., validation_data=<keras_pre..., steps_per_epoch=11, epochs=15, validation_steps=88)`\n",
            "  \n"
          ],
          "name": "stderr"
        },
        {
          "output_type": "stream",
          "text": [
            "WARNING:tensorflow:From /usr/local/lib/python3.6/dist-packages/keras/backend/tensorflow_backend.py:1033: The name tf.assign_add is deprecated. Please use tf.compat.v1.assign_add instead.\n",
            "\n",
            "WARNING:tensorflow:From /usr/local/lib/python3.6/dist-packages/keras/backend/tensorflow_backend.py:1020: The name tf.assign is deprecated. Please use tf.compat.v1.assign instead.\n",
            "\n",
            "WARNING:tensorflow:From /usr/local/lib/python3.6/dist-packages/keras/backend/tensorflow_backend.py:3005: The name tf.Session is deprecated. Please use tf.compat.v1.Session instead.\n",
            "\n",
            "Epoch 1/15\n",
            "WARNING:tensorflow:From /usr/local/lib/python3.6/dist-packages/keras/backend/tensorflow_backend.py:190: The name tf.get_default_session is deprecated. Please use tf.compat.v1.get_default_session instead.\n",
            "\n",
            "WARNING:tensorflow:From /usr/local/lib/python3.6/dist-packages/keras/backend/tensorflow_backend.py:197: The name tf.ConfigProto is deprecated. Please use tf.compat.v1.ConfigProto instead.\n",
            "\n",
            "WARNING:tensorflow:From /usr/local/lib/python3.6/dist-packages/keras/backend/tensorflow_backend.py:207: The name tf.global_variables is deprecated. Please use tf.compat.v1.global_variables instead.\n",
            "\n",
            "WARNING:tensorflow:From /usr/local/lib/python3.6/dist-packages/keras/backend/tensorflow_backend.py:216: The name tf.is_variable_initialized is deprecated. Please use tf.compat.v1.is_variable_initialized instead.\n",
            "\n",
            "WARNING:tensorflow:From /usr/local/lib/python3.6/dist-packages/keras/backend/tensorflow_backend.py:223: The name tf.variables_initializer is deprecated. Please use tf.compat.v1.variables_initializer instead.\n",
            "\n",
            "11/11 [==============================] - 67s 6s/step - loss: 0.4908 - acc: 0.7393 - val_loss: 0.3817 - val_acc: 0.8237\n",
            "Epoch 2/15\n",
            "11/11 [==============================] - 37s 3s/step - loss: 0.3378 - acc: 0.8481 - val_loss: 0.3202 - val_acc: 0.8581\n",
            "Epoch 3/15\n",
            "11/11 [==============================] - 36s 3s/step - loss: 0.2268 - acc: 0.9084 - val_loss: 0.2739 - val_acc: 0.8978\n",
            "Epoch 4/15\n",
            "11/11 [==============================] - 36s 3s/step - loss: 0.1543 - acc: 0.9434 - val_loss: 0.2234 - val_acc: 0.9208\n",
            "Epoch 5/15\n",
            "11/11 [==============================] - 36s 3s/step - loss: 0.1069 - acc: 0.9606 - val_loss: 0.1885 - val_acc: 0.9206\n",
            "Epoch 6/15\n",
            "11/11 [==============================] - 36s 3s/step - loss: 0.0922 - acc: 0.9606 - val_loss: 0.1756 - val_acc: 0.9400\n",
            "Epoch 7/15\n",
            "11/11 [==============================] - 36s 3s/step - loss: 0.0694 - acc: 0.9754 - val_loss: 0.1507 - val_acc: 0.9489\n",
            "Epoch 8/15\n",
            "11/11 [==============================] - 36s 3s/step - loss: 0.0623 - acc: 0.9808 - val_loss: 0.1439 - val_acc: 0.9460\n",
            "Epoch 9/15\n",
            "11/11 [==============================] - 35s 3s/step - loss: 0.0903 - acc: 0.9497 - val_loss: 0.1668 - val_acc: 0.9373\n",
            "Epoch 10/15\n",
            "11/11 [==============================] - 35s 3s/step - loss: 0.0533 - acc: 0.9807 - val_loss: 0.1945 - val_acc: 0.9376\n",
            "Epoch 11/15\n",
            "11/11 [==============================] - 35s 3s/step - loss: 0.0488 - acc: 0.9850 - val_loss: 0.1823 - val_acc: 0.9291\n",
            "Epoch 12/15\n",
            "11/11 [==============================] - 35s 3s/step - loss: 0.0337 - acc: 0.9921 - val_loss: 0.1472 - val_acc: 0.9514\n",
            "Epoch 13/15\n",
            "11/11 [==============================] - 33s 3s/step - loss: 0.0204 - acc: 0.9950 - val_loss: 0.1406 - val_acc: 0.9489\n",
            "Epoch 14/15\n",
            "11/11 [==============================] - 37s 3s/step - loss: 0.0306 - acc: 0.9908 - val_loss: 0.1102 - val_acc: 0.9628\n",
            "Epoch 15/15\n",
            "11/11 [==============================] - 36s 3s/step - loss: 0.0158 - acc: 0.9964 - val_loss: 0.1451 - val_acc: 0.9605\n"
          ],
          "name": "stdout"
        },
        {
          "output_type": "execute_result",
          "data": {
            "text/plain": [
              "<keras.callbacks.History at 0x7fcb78ccfe10>"
            ]
          },
          "metadata": {
            "tags": []
          },
          "execution_count": 9
        }
      ]
    },
    {
      "cell_type": "code",
      "metadata": {
        "id": "TjS4-uxsIxzt",
        "colab_type": "code",
        "colab": {
          "base_uri": "https://localhost:8080/",
          "height": 81
        },
        "outputId": "bb677c03-aa14-4009-c1dc-9038836fbb52"
      },
      "source": [
        "import numpy as np\n",
        "from keras.preprocessing import image\n",
        "test_image = image.load_img('/content/gdrive/My Drive/Dataset/test/6052.png', target_size = (64,64,3))\n",
        "test_image"
      ],
      "execution_count": 10,
      "outputs": [
        {
          "output_type": "execute_result",
          "data": {
            "image/png": "[encoded data removed]",
            "text/plain": [
              "<PIL.Image.Image image mode=RGB size=64x64 at 0x7FCB75061400>"
            ]
          },
          "metadata": {
            "tags": []
          },
          "execution_count": 10
        }
      ]
    },
    {
      "cell_type": "code",
      "metadata": {
        "id": "OelVfuvQIxxw",
        "colab_type": "code",
        "colab": {
          "base_uri": "https://localhost:8080/",
          "height": 908
        },
        "outputId": "d4c462a2-f4a4-466d-f740-adf2edc644bb"
      },
      "source": [
        "# Converting image to array n expanding the dimention \n",
        "test_image = image.img_to_array(test_image)\n",
        "test_image = np.expand_dims(test_image, axis = 0)\n",
        "test_image"
      ],
      "execution_count": 11,
      "outputs": [
        {
          "output_type": "execute_result",
          "data": {
            "text/plain": [
              "array([[[[255., 255., 255.],\n",
              "         [255., 255., 255.],\n",
              "         [255., 255., 255.],\n",
              "         ...,\n",
              "         [255., 255., 255.],\n",
              "         [255., 255., 255.],\n",
              "         [255., 255., 255.]],\n",
              "\n",
              "        [[255., 255., 255.],\n",
              "         [255., 255., 255.],\n",
              "         [255., 255., 255.],\n",
              "         ...,\n",
              "         [255., 255., 255.],\n",
              "         [255., 255., 255.],\n",
              "         [255., 255., 255.]],\n",
              "\n",
              "        [[255., 255., 255.],\n",
              "         [255., 255., 255.],\n",
              "         [255., 255., 255.],\n",
              "         ...,\n",
              "         [255., 255., 255.],\n",
              "         [255., 255., 255.],\n",
              "         [255., 255., 255.]],\n",
              "\n",
              "        ...,\n",
              "\n",
              "        [[255., 255., 255.],\n",
              "         [255., 255., 255.],\n",
              "         [255., 255., 255.],\n",
              "         ...,\n",
              "         [255., 255., 255.],\n",
              "         [255., 255., 255.],\n",
              "         [255., 255., 255.]],\n",
              "\n",
              "        [[255., 255., 255.],\n",
              "         [255., 255., 255.],\n",
              "         [255., 255., 255.],\n",
              "         ...,\n",
              "         [255., 255., 255.],\n",
              "         [255., 255., 255.],\n",
              "         [255., 255., 255.]],\n",
              "\n",
              "        [[255., 255., 255.],\n",
              "         [255., 255., 255.],\n",
              "         [255., 255., 255.],\n",
              "         ...,\n",
              "         [255., 255., 255.],\n",
              "         [255., 255., 255.],\n",
              "         [255., 255., 255.]]]], dtype=float32)"
            ]
          },
          "metadata": {
            "tags": []
          },
          "execution_count": 11
        }
      ]
    },
    {
      "cell_type": "code",
      "metadata": {
        "id": "HHSGJpjKIxtY",
        "colab_type": "code",
        "colab": {
          "base_uri": "https://localhost:8080/",
          "height": 35
        },
        "outputId": "00e1a2e2-a64f-49d7-ea14-7790be350e9d"
      },
      "source": [
        "# showing one on predicted label\n",
        "result = classifier.predict(test_image)\n",
        "result"
      ],
      "execution_count": 12,
      "outputs": [
        {
          "output_type": "execute_result",
          "data": {
            "text/plain": [
              "array([[0., 1., 0., 0.]], dtype=float32)"
            ]
          },
          "metadata": {
            "tags": []
          },
          "execution_count": 12
        }
      ]
    },
    {
      "cell_type": "code",
      "metadata": {
        "id": "uIZeB0KdJkLX",
        "colab_type": "code",
        "colab": {
          "base_uri": "https://localhost:8080/",
          "height": 35
        },
        "outputId": "6c437a27-0f65-4fe3-f7be-357f702f6c07"
      },
      "source": [
        "def prediction (result):\n",
        "    if result[0][0]==1:\n",
        "        return 'category 1'\n",
        "    elif result[0][1] == 1:\n",
        "        return 'category 2'\n",
        "    elif result[0][2] == 1:\n",
        "        return'category 3'\n",
        "    else:\n",
        "        return 'category 4'\n",
        "\n",
        "prediction(result)"
      ],
      "execution_count": 13,
      "outputs": [
        {
          "output_type": "execute_result",
          "data": {
            "text/plain": [
              "'category 2'"
            ]
          },
          "metadata": {
            "tags": []
          },
          "execution_count": 13
        }
      ]
    },
    {
      "cell_type": "code",
      "metadata": {
        "id": "OzSLke1-Jtix",
        "colab_type": "code",
        "colab": {
          "base_uri": "https://localhost:8080/",
          "height": 81
        },
        "outputId": "9c91de91-08a0-4892-8d06-a071e992422d"
      },
      "source": [
        "test_image = image.load_img('/content/gdrive/My Drive/Dataset/test/Test_original_C053.png_84d8e7c9-490f-4579-b9a9-501a8ca02cfe.png', target_size = (64,64,3))\n",
        "test_image"
      ],
      "execution_count": 14,
      "outputs": [
        {
          "output_type": "execute_result",
          "data": {
            "image/png": "[encoded data removed]",
            "text/plain": [
              "<PIL.Image.Image image mode=RGB size=64x64 at 0x7FCB75077B00>"
            ]
          },
          "metadata": {
            "tags": []
          },
          "execution_count": 14
        }
      ]
    },
    {
      "cell_type": "code",
      "metadata": {
        "id": "pIOIPgAEJ0zI",
        "colab_type": "code",
        "colab": {
          "base_uri": "https://localhost:8080/",
          "height": 35
        },
        "outputId": "b755ed7f-ec3b-4cab-b3a7-ca20a71c2429"
      },
      "source": [
        "test_image = image.img_to_array(test_image)\n",
        "test_image = np.expand_dims(test_image, axis = 0)\n",
        "result = classifier.predict(test_image)\n",
        "result\n",
        "\n",
        "def prediction (result):\n",
        "    if result[0][0]==1:\n",
        "        return 'category 1'\n",
        "    elif result[0][1] == 1:\n",
        "        return 'category 2'\n",
        "    elif result[0][2] == 1:\n",
        "        return'category 3'\n",
        "    else:\n",
        "        return 'category 4'\n",
        "\n",
        "prediction(result)"
      ],
      "execution_count": 15,
      "outputs": [
        {
          "output_type": "execute_result",
          "data": {
            "text/plain": [
              "'category 4'"
            ]
          },
          "metadata": {
            "tags": []
          },
          "execution_count": 15
        }
      ]
    }
  ]
}